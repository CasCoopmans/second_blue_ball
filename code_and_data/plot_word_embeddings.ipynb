{
 "cells": [
  {
   "cell_type": "code",
   "execution_count": 1,
   "metadata": {},
   "outputs": [],
   "source": [
    "import os\n",
    "import numpy as np\n",
    "import pandas as pd\n",
    "import matplotlib.pyplot as plt\n",
    "from sklearn.metrics.pairwise import cosine_similarity"
   ]
  },
  {
   "cell_type": "markdown",
   "metadata": {},
   "source": [
    "## Load original word embeddings"
   ]
  },
  {
   "cell_type": "code",
   "execution_count": 1,
   "metadata": {},
   "outputs": [],
   "source": [
    "## load original word embeddings\n",
    "#import gensim\n",
    "#import json\n",
    "#import csv\n",
    "#import pickle as pickle\n",
    "#from sklearn.decomposition import PCA\n",
    "#import subprocess\n",
    "\n",
    "# Load Google's pre-trained Word2Vec model\n",
    "#model = gensim.models.KeyedVectors.load_word2vec_format(\n",
    "#    'D:/word2vec/GoogleNews-vectors-negative300.bin/GoogleNews-vectors-negative300.bin', binary=True)\n",
    "# How to access word vectors\n",
    "# dog = model['dog']\n",
    "# print dog.shape\n",
    "# print dog[:10]"
   ]
  },
  {
   "cell_type": "code",
   "execution_count": null,
   "metadata": {},
   "outputs": [],
   "source": [
    "'''\n",
    "second =   model['second']\n",
    "third =    model['third']\n",
    "fourth =   model['fourth']\n",
    "fifth =    model['fifth']\n",
    "sixth =    model['sixth']\n",
    "seventh =  model['seventh']\n",
    "blue =     model['blue']\n",
    "green =    model['green']\n",
    "red =      model['red']\n",
    "ball =     model['ball']\n",
    "\n",
    "embeddings = pd.DataFrame([['second', second],['third', third],['fourth', fourth],\n",
    "                           ['fifth', fifth],['sixth', sixth],['seventh', seventh],\n",
    "                           ['blue', blue],['green', green],['red', red],\n",
    "                           ['ball', ball]],\n",
    "                           columns = ['word', 'embedding'])\n",
    "embeddings.to_csv('word2vec/embeddings.csv', index=False)\n",
    "'''"
   ]
  },
  {
   "cell_type": "code",
   "execution_count": null,
   "metadata": {},
   "outputs": [],
   "source": [
    "'''\n",
    "#reduce dimensionality of vectors using PCA (using loaded vectors)\n",
    "X_train_names = []\n",
    "X_train = []\n",
    "\n",
    "listofwords = [second, third, fourth, fifth, sixth, seventh, blue, green, red, ball]\n",
    "listofnames = ['second', 'third', 'fourth', 'fifth', 'sixth', 'seventh', 'blue', 'green', 'red', 'ball']\n",
    "\n",
    "run = 0\n",
    "for word in listofwords:\n",
    "        X_train.append(word)\n",
    "        X_train_names.append(listofnames[run])\n",
    "        run = run + 1\n",
    "\n",
    "X_train = np.asarray(X_train)\n",
    "\n",
    "X = X_train\n",
    "X = X - X.mean(axis=0) \n",
    "cov_X =  np.cov(np.transpose(X))\n",
    "values, vectors = np.linalg.eig(cov_X)\n",
    "projection = np.transpose(np.transpose(vectors).dot(np.transpose(X)))\n",
    "reduced_projection = projection[:,np.std(projection,axis=0) > 0.00000000000000029] #10 dim\n",
    "#reduced_projection = projection[:,np.std(projection,axis=0) > 0.01]\n",
    "reduced_projection = np.real(reduced_projection)\n",
    "\n",
    "second = reduced_projection[0]\n",
    "third = reduced_projection[1]\n",
    "fourth = reduced_projection[2]\n",
    "fifth = reduced_projection[3]\n",
    "sixth = reduced_projection[4]\n",
    "seventh = reduced_projection[5]\n",
    "blue = reduced_projection[6]\n",
    "green = reduced_projection[7]\n",
    "red = reduced_projection[8]\n",
    "ball = reduced_projection[9]\n",
    "\n",
    "reduced_embeddings = pd.DataFrame([['second', second],['third', third],['fourth', fourth],\n",
    "                                   ['fifth', fifth],['sixth', sixth],['seventh', seventh],\n",
    "                                  ['blue', blue],['green', green],['red', red],\n",
    "                                  ['ball', ball]],\n",
    "                                  columns = ['word', 'embedding'])\n",
    "#reduced_embeddings.to_csv('word2vec/reduced_embeddings.csv', index=False)\n",
    "#reduced_projection[0].shape\n",
    "'''\n",
    "'''\n",
    "reduced_embeddings = reduced_embeddings['embedding']\n",
    "second_red = np.array(np.matrix(reduced_embeddings[0])).ravel()\n",
    "third_red = np.array(np.matrix(reduced_embeddings[1])).ravel()\n",
    "fourth_red = np.array(np.matrix(reduced_embeddings[2])).ravel()\n",
    "fifth_red = np.array(np.matrix(reduced_embeddings[3])).ravel()\n",
    "sixth_red = np.array(np.matrix(reduced_embeddings[4])).ravel()\n",
    "seventh_red = np.array(np.matrix(reduced_embeddings[5])).ravel()\n",
    "blue_red = np.array(np.matrix(reduced_embeddings[6])).ravel()\n",
    "green_red = np.array(np.matrix(reduced_embeddings[7])).ravel()\n",
    "red_red = np.array(np.matrix(reduced_embeddings[8])).ravel()\n",
    "ball_red = np.array(np.matrix(reduced_embeddings[9])).ravel()\n",
    "'''"
   ]
  },
  {
   "cell_type": "markdown",
   "metadata": {},
   "source": [
    "## Load full and reduced word embeddings"
   ]
  },
  {
   "cell_type": "code",
   "execution_count": 2,
   "metadata": {},
   "outputs": [],
   "source": [
    "# load dimensionality-reduced embeddings\n",
    "red_embeddings = pd.read_csv('word2vec/reduced_embeddings.csv', header = 0)\n",
    "red_embeddings = red_embeddings['embedding']\n",
    "# convert the embeddings from list to string of floats\n",
    "second_red = np.array(np.matrix(red_embeddings[0])).ravel()\n",
    "third_red = np.array(np.matrix(red_embeddings[1])).ravel()\n",
    "fourth_red = np.array(np.matrix(red_embeddings[2])).ravel()\n",
    "fifth_red = np.array(np.matrix(red_embeddings[3])).ravel()\n",
    "sixth_red = np.array(np.matrix(red_embeddings[4])).ravel()\n",
    "seventh_red = np.array(np.matrix(red_embeddings[5])).ravel()\n",
    "blue_red = np.array(np.matrix(red_embeddings[6])).ravel()\n",
    "green_red = np.array(np.matrix(red_embeddings[7])).ravel()\n",
    "red_red = np.array(np.matrix(red_embeddings[8])).ravel()\n",
    "ball_red = np.array(np.matrix(red_embeddings[9])).ravel()"
   ]
  },
  {
   "cell_type": "code",
   "execution_count": 4,
   "metadata": {},
   "outputs": [],
   "source": [
    "embeddings = pd.read_csv('word2vec/embeddings.csv', header = 0)\n",
    "embeddings = embeddings['embedding']\n",
    "# convert the embeddings from list to string of floats\n",
    "second = np.array(np.matrix(embeddings[0])).ravel()\n",
    "third = np.array(np.matrix(embeddings[1])).ravel()\n",
    "fourth = np.array(np.matrix(embeddings[2])).ravel()\n",
    "fifth = np.array(np.matrix(embeddings[3])).ravel()\n",
    "sixth = np.array(np.matrix(embeddings[4])).ravel()\n",
    "seventh = np.array(np.matrix(embeddings[5])).ravel()\n",
    "blue = np.array(np.matrix(embeddings[6])).ravel()\n",
    "green = np.array(np.matrix(embeddings[7])).ravel()\n",
    "red = np.array(np.matrix(embeddings[8])).ravel()\n",
    "ball = np.array(np.matrix(embeddings[9])).ravel()"
   ]
  },
  {
   "cell_type": "markdown",
   "metadata": {},
   "source": [
    "## Plot similarity matrices"
   ]
  },
  {
   "cell_type": "code",
   "execution_count": 5,
   "metadata": {},
   "outputs": [
    {
     "data": {
      "image/png": "[encoded data removed]",
      "text/plain": [
       "<Figure size 864x864 with 4 Axes>"
      ]
     },
     "metadata": {
      "needs_background": "light"
     },
     "output_type": "display_data"
    }
   ],
   "source": [
    "words_red = [second_red, third_red, fourth_red, fifth_red, sixth_red, seventh_red, blue_red, green_red, red_red, ball_red]\n",
    "words = [second, third, fourth, fifth, sixth, seventh, blue, green, red, ball]\n",
    "axis = ['second', 'third', 'fourth', 'fifth', 'sixth', 'seventh', 'blue', 'green', 'red', 'ball']\n",
    "corr_matrix_red = cosine_similarity(words_red)#np.corrcoef(words_red)\n",
    "corr_matrix = cosine_similarity(words)#np.corrcoef(words)\n",
    "\n",
    "cos_matrices = [corr_matrix, corr_matrix_red]\n",
    "\n",
    "fig, ax = plt.subplots(1,2, figsize=(12,12))\n",
    "\n",
    "for subs in range(len(ax)):\n",
    "    im = ax[subs].imshow(cos_matrices[subs], cmap='viridis', interpolation='nearest')\n",
    "\n",
    "    ax[subs].set_xticks(np.arange(len(axis)))\n",
    "    ax[subs].set_yticks(np.arange(len(axis)))\n",
    "    ax[subs].set_xticklabels(axis)\n",
    "    ax[subs].set_yticklabels(axis)\n",
    "    ax[0].set_title('Cosine similarity word2vec (300 dim)')\n",
    "    ax[1].set_title('Cosine similarity word2vec (10 dim)')\n",
    "    plt.setp(ax[subs].get_xticklabels(), rotation=45, ha=\"right\", rotation_mode=\"anchor\")\n",
    "    v1 = np.linspace(cos_matrices[subs].min(), cos_matrices[subs].max(), 8, endpoint=True)\n",
    "    cb = plt.colorbar(im, ax = ax[subs], ticks = v1, fraction=0.046, pad=0.04)#ticks =[-0.6, 0.1, 1], \n",
    "    cb.ax.set_yticklabels([\"{:4.2f}\".format(i) for i in v1])\n",
    "    ax[0].text(-2.7, -1, 'A', fontsize=19)\n",
    "    ax[1].text(-2.7, -1, 'B', fontsize=19)\n",
    "    \n",
    "plt.plot()\n",
    "plt.subplots_adjust(wspace = 0.4 )\n",
    "#os. getcwd()\n",
    "#plt.savefig('Fig9.jpg', dpi = 150, bbox_inches='tight' )\n"
   ]
  }
 ],
 "metadata": {
  "kernelspec": {
   "display_name": "Python 3",
   "language": "python",
   "name": "python3"
  },
  "language_info": {
   "codemirror_mode": {
    "name": "ipython",
    "version": 3
   },
   "file_extension": ".py",
   "mimetype": "text/x-python",
   "name": "python",
   "nbconvert_exporter": "python",
   "pygments_lexer": "ipython3",
   "version": "3.7.7"
  }
 },
 "nbformat": 4,
 "nbformat_minor": 4
}
